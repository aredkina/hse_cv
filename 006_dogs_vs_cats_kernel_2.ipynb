{
 "cells": [
  {
   "cell_type": "markdown",
   "metadata": {
    "_uuid": "c89a5a1ff3a5c3e0f90571d2c2cd7c3826c21193"
   },
   "source": [
    "# Dogs vs. Cats"
   ]
  },
  {
   "cell_type": "markdown",
   "metadata": {
    "_uuid": "d4fdc215883342b4bfd98582159f144b5ea4264f"
   },
   "source": [
    "https://www.kaggle.com/c/dogs-vs-cats-redux-kernels-edition"
   ]
  },
  {
   "cell_type": "code",
   "execution_count": null,
   "metadata": {
    "_uuid": "0241bd88bc2da0d3d969452a0079aad8293152fc",
    "collapsed": true
   },
   "outputs": [],
   "source": [
    "import numpy as np\n",
    "import keras\n",
    "from keras.engine import topology\n",
    "from keras.models import Model\n",
    "from keras.applications.vgg16 import VGG16\n",
    "from keras.applications.vgg16 import preprocess_input\n",
    "from keras.preprocessing.image import load_img, img_to_array\n",
    "import h5py"
   ]
  },
  {
   "cell_type": "code",
   "execution_count": null,
   "metadata": {
    "_uuid": "a57386722d33bb1f0a9e0d7c131112d826b47a6f",
    "collapsed": true
   },
   "outputs": [],
   "source": [
    "IMG_SIZE = (224, 224)  # размер входного изображения сети"
   ]
  },
  {
   "cell_type": "markdown",
   "metadata": {
    "_uuid": "56d1c78c1e32ffae14459acb3a28fe0340e1dbcc"
   },
   "source": [
    "## Функции загрузки данных"
   ]
  },
  {
   "cell_type": "code",
   "execution_count": null,
   "metadata": {
    "_uuid": "ff9bfe890f3a59ef71f8b4e67e79ad55c496b016",
    "collapsed": true
   },
   "outputs": [],
   "source": [
    "import re\n",
    "from random import shuffle\n",
    "from glob import glob\n",
    "\n",
    "train_files = glob('../input/dogs-vs-cats-redux-kernels-edition/train/*.jpg')\n",
    "test_files = glob('../input/dogs-vs-cats-redux-kernels-edition/test/*.jpg')\n",
    "\n",
    "# загружаем входное изображение и предобрабатываем\n",
    "def load_image(path, target_size=IMG_SIZE):\n",
    "    img = load_img(path, target_size=target_size)  # загрузка и масштабирование изображения\n",
    "    array = img_to_array(img)\n",
    "    return preprocess_input(array)  # предобработка для VGG16\n",
    "\n",
    "# генератор для последовательного чтения обучающих данных с диска\n",
    "def fit_generator(files, batch_size=32):\n",
    "    while True:\n",
    "        shuffle(files)\n",
    "        for k in range(len(files) // batch_size):\n",
    "            i = k * batch_size\n",
    "            j = i + batch_size\n",
    "            if j > len(files):\n",
    "                j = - j % len(files)\n",
    "            x = np.array([load_image(path) for path in files[i:j]])\n",
    "            y = np.array([1. if re.match('.*/dog\\.\\d', path) else 0. for path in files[i:j]])\n",
    "            yield (x, y)\n",
    "\n",
    "# генератор последовательного чтения тестовых данных с диска\n",
    "def predict_generator(files):\n",
    "    while True:\n",
    "        for path in files:\n",
    "            yield np.array([load_image(path)])"
   ]
  },
  {
   "cell_type": "markdown",
   "metadata": {
    "_uuid": "8f7c8c6592d1f12b4169abbfc7590b246bf5a3f7"
   },
   "source": [
    "## Визуализируем примеры для обучения"
   ]
  },
  {
   "cell_type": "code",
   "execution_count": null,
   "metadata": {
    "_uuid": "00acb6d02e75f5ced593eaa029483f157341a71b",
    "collapsed": true
   },
   "outputs": [],
   "source": [
    "%matplotlib inline\n",
    "from matplotlib import pyplot as plt\n",
    "fig = plt.figure(figsize=(20, 20))\n",
    "for i, path in enumerate(train_files[:3], 1):\n",
    "    subplot = fig.add_subplot(i // 5 + 1, 5, i)\n",
    "    plt.imshow(plt.imread(path));\n",
    "    subplot.set_title('%s' % path.split('/')[-1]);"
   ]
  },
  {
   "cell_type": "markdown",
   "metadata": {
    "_uuid": "94dc25de9c9cac805a36211e1ba224ce0fde6881"
   },
   "source": [
    "## Загружаем предобученную модель"
   ]
  },
  {
   "cell_type": "code",
   "execution_count": null,
   "metadata": {
    "_uuid": "5f17c281a673e03a6c0925e019895cb10233b3c9",
    "collapsed": true
   },
   "outputs": [],
   "source": [
    "#base_model -  объект класса keras.models.Model (Functional Model)\n",
    "base_model = VGG16(include_top = False,\n",
    "                   weights = None,\n",
    "                   input_shape = (IMG_SIZE[0], IMG_SIZE[1], 3))"
   ]
  },
  {
   "cell_type": "code",
   "execution_count": null,
   "metadata": {
    "_uuid": "1c63eea5292c8b1b013120a13a5b2daf2f69613b",
    "collapsed": true
   },
   "outputs": [],
   "source": [
    "def load_split_weights(model, model_path_pattern):  \n",
    "    model_f = h5py.File(model_path_pattern, \"r\")\n",
    "    topology.load_weights_from_hdf5_group_by_name(model_f, model.layers)\n",
    "    \n",
    "    return model"
   ]
  },
  {
   "cell_type": "code",
   "execution_count": null,
   "metadata": {
    "_uuid": "10f73f44d1482ee762979db61ac9c9e1526181ab",
    "collapsed": true
   },
   "outputs": [],
   "source": [
    "keras_models_dir = '../input/full-keras-pretrained-no-top'\n",
    "model_path_pattern = keras_models_dir + \"/vgg16_weights_tf_dim_ordering_tf_kernels_notop.h5\" \n",
    "base_model = load_split_weights(base_model, model_path_pattern = model_path_pattern)"
   ]
  },
  {
   "cell_type": "code",
   "execution_count": null,
   "metadata": {
    "_uuid": "08878414176a64d37927f1c35f76074d508093d0",
    "collapsed": true
   },
   "outputs": [],
   "source": [
    "# base_model = MobileNetV2(include_top = False,\n",
    "#                   weights = 'imagenet',\n",
    "#                   input_shape = (IMG_SIZE[0], IMG_SIZE[1], 3))"
   ]
  },
  {
   "cell_type": "code",
   "execution_count": null,
   "metadata": {
    "_uuid": "48e6f33188fe17bb018c38e41856ffeef8ce7c4e",
    "collapsed": true
   },
   "outputs": [],
   "source": [
    "# фиксируем все веса предобученной сети, кроме последнего\n",
    "for layer in base_model.layers[:-1]:\n",
    "    layer.trainable = False"
   ]
  },
  {
   "cell_type": "code",
   "execution_count": null,
   "metadata": {
    "_uuid": "4cfa92323a30bd08453562dafbe826cb0d948e73",
    "collapsed": true
   },
   "outputs": [],
   "source": [
    "base_model.summary()"
   ]
  },
  {
   "cell_type": "markdown",
   "metadata": {
    "_uuid": "952056627da2be6f7900224045714d9e82ead949"
   },
   "source": [
    "## Добавляем полносвязный слой"
   ]
  },
  {
   "cell_type": "code",
   "execution_count": null,
   "metadata": {
    "_uuid": "ecb628f359a8827ac556ea5d64e579026030ee98",
    "collapsed": true
   },
   "outputs": [],
   "source": [
    "x = base_model.layers[-1].output\n",
    "x = keras.layers.Flatten()(x)\n",
    "x = keras.layers.Dense(1,  # один выход\n",
    "                activation='sigmoid',  # функция активации  \n",
    "                kernel_regularizer=keras.regularizers.l1(1e-4))(x)\n",
    "model = Model(inputs=base_model.input, outputs=x)"
   ]
  },
  {
   "cell_type": "markdown",
   "metadata": {
    "_uuid": "3a2a3601ffb58c67646cbdc035b4172509485d4a"
   },
   "source": [
    "## Выводим архитектуру модели"
   ]
  },
  {
   "cell_type": "code",
   "execution_count": null,
   "metadata": {
    "_uuid": "46a9903a34a4560be03b9bc09bee14c57371a70a",
    "collapsed": true
   },
   "outputs": [],
   "source": [
    "model.summary()"
   ]
  },
  {
   "cell_type": "markdown",
   "metadata": {
    "_uuid": "795af07d013402e10266d4a02b2cef943ca9eef7"
   },
   "source": [
    "## Компилируем модель и запускаем обучение"
   ]
  },
  {
   "cell_type": "code",
   "execution_count": null,
   "metadata": {
    "_uuid": "d15f283517af3077b2ffae785ea6917094dff49e",
    "collapsed": true
   },
   "outputs": [],
   "source": [
    "#opt = keras.optimizers.Adadelta(lr=1.0,rho=0.9)\n",
    "opt = keras.optimizers.Adagrad(lr=0.001, epsilon=None, decay =0.0)\n",
    "model.compile(optimizer=opt, #'adam', \n",
    "              loss='binary_crossentropy',  # функция потерь binary_crossentropy (log loss\n",
    "              metrics=['accuracy'])"
   ]
  },
  {
   "cell_type": "code",
   "execution_count": null,
   "metadata": {
    "_uuid": "6a3493e7dad2b6076d9cb5962bc7690886c1342d",
    "collapsed": true,
    "scrolled": false
   },
   "outputs": [],
   "source": [
    "shuffle(train_files)  # перемешиваем обучающую выборку\n",
    "\n",
    "train_val_split = 500  # число изображений в валидационной выборке\n",
    "\n",
    "validation_data = next(fit_generator(train_files[:train_val_split], train_val_split))\n",
    "\n",
    "# запускаем процесс обучения\n",
    "model.fit_generator(fit_generator(train_files[train_val_split:]),  # данные читаем функцией-генератором\n",
    "        steps_per_epoch=10,  # число вызовов генератора за эпоху\n",
    "        epochs=150,  # число эпох обучения\n",
    "        validation_data=validation_data)"
   ]
  },
  {
   "cell_type": "code",
   "execution_count": null,
   "metadata": {
    "_uuid": "2dca6c205330589b8500bdbd6912bb70fbc784cc",
    "collapsed": true
   },
   "outputs": [],
   "source": [
    "model.save('my_vgg19_cats_and_dogs_1.h5')"
   ]
  },
  {
   "cell_type": "markdown",
   "metadata": {
    "_uuid": "86873beb0490f6035d2fe820efa6d58e1e4dc0e3"
   },
   "source": [
    "## Предсказания на проверочной выборке"
   ]
  },
  {
   "cell_type": "code",
   "execution_count": null,
   "metadata": {
    "_uuid": "2ebd9388b8162e8abb6d60b3f08a8f332c5f1652",
    "collapsed": true
   },
   "outputs": [],
   "source": [
    "pred = model.predict_generator(predict_generator(test_files), len(test_files), max_queue_size=500)"
   ]
  },
  {
   "cell_type": "code",
   "execution_count": null,
   "metadata": {
    "_uuid": "c47c09608266e5d26ae7da5d807f49286c064c84",
    "collapsed": true
   },
   "outputs": [],
   "source": [
    "%matplotlib inline\n",
    "from matplotlib import pyplot as plt\n",
    "fig = plt.figure(figsize=(20, 20))\n",
    "for i, (path, score) in enumerate(zip(test_files[80:][:10], pred[80:][:10]), 1):\n",
    "    subplot = fig.add_subplot(i // 5 + 1, 5, i)\n",
    "    plt.imshow(plt.imread(path));\n",
    "    subplot.set_title('%.3f' % score);"
   ]
  },
  {
   "cell_type": "markdown",
   "metadata": {
    "_uuid": "33e2635ea61d063bbbd2d82d5c82efc23dc51e88"
   },
   "source": [
    "## Готовим данные для сабмита"
   ]
  },
  {
   "cell_type": "code",
   "execution_count": null,
   "metadata": {
    "_uuid": "77fd3edfccbd72e623469136acb77212833a160e",
    "collapsed": true
   },
   "outputs": [],
   "source": [
    "with open('submit_cats_dogs_vgg16_1.txt', 'w') as dst:\n",
    "    dst.write('id,label\\n')\n",
    "    for path, score in zip(test_files, pred):\n",
    "        dst.write('%s,%f\\n' % (re.search('(\\d+)', path).group(0), score))"
   ]
  },
  {
   "cell_type": "code",
   "execution_count": null,
   "metadata": {
    "_uuid": "4708f530fc5f5ad61394b86234d5125f10564550",
    "collapsed": true
   },
   "outputs": [],
   "source": []
  }
 ],
 "metadata": {
  "kernelspec": {
   "display_name": "Python 3",
   "language": "python",
   "name": "python3"
  },
  "language_info": {
   "codemirror_mode": {
    "name": "ipython",
    "version": 3
   },
   "file_extension": ".py",
   "mimetype": "text/x-python",
   "name": "python",
   "nbconvert_exporter": "python",
   "pygments_lexer": "ipython3",
   "version": "3.6.5"
  },
  "widgets": {
   "state": {},
   "version": "1.1.2"
  }
 },
 "nbformat": 4,
 "nbformat_minor": 1
}
